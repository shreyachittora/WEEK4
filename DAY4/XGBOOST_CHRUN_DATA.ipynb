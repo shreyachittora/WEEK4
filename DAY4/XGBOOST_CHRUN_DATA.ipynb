{
 "cells": [
  {
   "cell_type": "code",
   "execution_count": 1,
   "id": "450f0287-fc7f-4761-b7c9-8df8fac659c0",
   "metadata": {},
   "outputs": [
    {
     "name": "stdout",
     "output_type": "stream",
     "text": [
      "<class 'pandas.core.frame.DataFrame'>\n",
      "RangeIndex: 7043 entries, 0 to 7042\n",
      "Data columns (total 21 columns):\n",
      " #   Column            Non-Null Count  Dtype  \n",
      "---  ------            --------------  -----  \n",
      " 0   customerID        7043 non-null   object \n",
      " 1   gender            7043 non-null   object \n",
      " 2   SeniorCitizen     7043 non-null   int64  \n",
      " 3   Partner           7043 non-null   object \n",
      " 4   Dependents        7043 non-null   object \n",
      " 5   tenure            7043 non-null   int64  \n",
      " 6   PhoneService      7043 non-null   object \n",
      " 7   MultipleLines     7043 non-null   object \n",
      " 8   InternetService   7043 non-null   object \n",
      " 9   OnlineSecurity    7043 non-null   object \n",
      " 10  OnlineBackup      7043 non-null   object \n",
      " 11  DeviceProtection  7043 non-null   object \n",
      " 12  TechSupport       7043 non-null   object \n",
      " 13  StreamingTV       7043 non-null   object \n",
      " 14  StreamingMovies   7043 non-null   object \n",
      " 15  Contract          7043 non-null   object \n",
      " 16  PaperlessBilling  7043 non-null   object \n",
      " 17  PaymentMethod     7043 non-null   object \n",
      " 18  MonthlyCharges    7043 non-null   float64\n",
      " 19  TotalCharges      7043 non-null   object \n",
      " 20  Churn             7043 non-null   object \n",
      "dtypes: float64(1), int64(2), object(18)\n",
      "memory usage: 1.1+ MB\n"
     ]
    },
    {
     "data": {
      "text/plain": [
       "(None,\n",
       "    customerID  gender  SeniorCitizen Partner Dependents  tenure PhoneService  \\\n",
       " 0  7590-VHVEG  Female              0     Yes         No       1           No   \n",
       " 1  5575-GNVDE    Male              0      No         No      34          Yes   \n",
       " 2  3668-QPYBK    Male              0      No         No       2          Yes   \n",
       " 3  7795-CFOCW    Male              0      No         No      45           No   \n",
       " 4  9237-HQITU  Female              0      No         No       2          Yes   \n",
       " \n",
       "       MultipleLines InternetService OnlineSecurity  ... DeviceProtection  \\\n",
       " 0  No phone service             DSL             No  ...               No   \n",
       " 1                No             DSL            Yes  ...              Yes   \n",
       " 2                No             DSL            Yes  ...               No   \n",
       " 3  No phone service             DSL            Yes  ...              Yes   \n",
       " 4                No     Fiber optic             No  ...               No   \n",
       " \n",
       "   TechSupport StreamingTV StreamingMovies        Contract PaperlessBilling  \\\n",
       " 0          No          No              No  Month-to-month              Yes   \n",
       " 1          No          No              No        One year               No   \n",
       " 2          No          No              No  Month-to-month              Yes   \n",
       " 3         Yes          No              No        One year               No   \n",
       " 4          No          No              No  Month-to-month              Yes   \n",
       " \n",
       "                PaymentMethod MonthlyCharges  TotalCharges Churn  \n",
       " 0           Electronic check          29.85         29.85    No  \n",
       " 1               Mailed check          56.95        1889.5    No  \n",
       " 2               Mailed check          53.85        108.15   Yes  \n",
       " 3  Bank transfer (automatic)          42.30       1840.75    No  \n",
       " 4           Electronic check          70.70        151.65   Yes  \n",
       " \n",
       " [5 rows x 21 columns])"
      ]
     },
     "execution_count": 1,
     "metadata": {},
     "output_type": "execute_result"
    }
   ],
   "source": [
    "import pandas as pd\n",
    "from sklearn.model_selection import train_test_split\n",
    "from sklearn.preprocessing import LabelEncoder, StandardScaler\n",
    "from sklearn.linear_model import LogisticRegression\n",
    "from sklearn.ensemble import RandomForestClassifier\n",
    "from xgboost import XGBClassifier\n",
    "from sklearn.metrics import accuracy_score, precision_score, recall_score, f1_score\n",
    "from sklearn.model_selection import GridSearchCV\n",
    "from sklearn.model_selection import RandomizedSearchCV\n",
    "\n",
    "from sklearn.model_selection import RandomizedSearchCV\n",
    "from xgboost import XGBClassifier\n",
    "\n",
    "\n",
    "df = pd.read_csv(\"customers_.csv\")\n",
    "\n",
    "df.info()\n"
   ]
  },
  {
   "cell_type": "code",
   "execution_count": null,
   "id": "ab931514-0da3-4372-b498-1eddd8e6eada",
   "metadata": {},
   "outputs": [],
   "source": [
    "df.head()"
   ]
  },
  {
   "cell_type": "code",
   "execution_count": null,
   "id": "9907b3be-5c78-485f-a22c-630ca50aa79c",
   "metadata": {},
   "outputs": [],
   "source": []
  },
  {
   "cell_type": "code",
   "execution_count": 2,
   "id": "42207227-5b65-4889-a7e9-eb33a0ad1041",
   "metadata": {},
   "outputs": [
    {
     "data": {
      "text/plain": [
       "((5634, 19), (1409, 19))"
      ]
     },
     "execution_count": 2,
     "metadata": {},
     "output_type": "execute_result"
    }
   ],
   "source": [
    "\n",
    "\n",
    "df.drop(columns=['customerID'], inplace=True)\n",
    "\n",
    "# object to numeric\n",
    "df[\"TotalCharges\"] = pd.to_numeric(df[\"TotalCharges\"], errors=\"coerce\")\n",
    "df[\"TotalCharges\"] = df[\"TotalCharges\"].fillna(0)  # Fixed!\n",
    "\n",
    "# Encoding\n",
    "df[\"Churn\"] = df[\"Churn\"].map({\"Yes\": 1, \"No\": 0})\n",
    "\n",
    "# Label Encoding\n",
    "categorical_cols = df.select_dtypes(include=[\"object\"]).columns\n",
    "\n",
    "label_encoders = {}\n",
    "for col in categorical_cols:\n",
    "    le = LabelEncoder()\n",
    "    df[col] = le.fit_transform(df[col])\n",
    "    label_encoders[col] = le\n"
   ]
  },
  {
   "cell_type": "code",
   "execution_count": null,
   "id": "64f441d9-1f96-4a59-bbdb-b206a7bb6a30",
   "metadata": {},
   "outputs": [],
   "source": [
    "\n",
    "X = df.drop(columns=[\"Churn\"])\n",
    "y = df[\"Churn\"]\n",
    "X_train, X_test, y_train, y_test = train_test_split(X, y, test_size=0.2, random_state=42, stratify=y)\n"
   ]
  },
  {
   "cell_type": "code",
   "execution_count": null,
   "id": "a1119800-dba5-4473-8527-19c5b2bb0b34",
   "metadata": {},
   "outputs": [],
   "source": [
    "\n",
    "scaler = StandardScaler()\n",
    "X_train_scaled = scaler.fit_transform(X_train)\n",
    "X_test_scaled = scaler.transform(X_test)\n"
   ]
  },
  {
   "cell_type": "code",
   "execution_count": null,
   "id": "441065d0-d47e-4a02-96a7-a96bba3cb8e5",
   "metadata": {},
   "outputs": [],
   "source": [
    "\n",
    "X_train_scaled.shape, X_test_scaled.shape\n"
   ]
  },
  {
   "cell_type": "markdown",
   "id": "8379846e-89f7-4397-b576-a4540c925aaf",
   "metadata": {},
   "source": [
    "##### Training"
   ]
  },
  {
   "cell_type": "code",
   "execution_count": 5,
   "id": "429f916c-5f4d-4b42-b99e-bfe597fcd838",
   "metadata": {},
   "outputs": [
    {
     "data": {
      "text/plain": [
       "({'Accuracy': 0.7984386089425124,\n",
       "  'Precision': 0.640625,\n",
       "  'Recall': 0.5481283422459893,\n",
       "  'F1 Score': 0.590778097982709},\n",
       " {'Accuracy': 0.794889992902768,\n",
       "  'Precision': 0.6430976430976431,\n",
       "  'Recall': 0.5106951871657754,\n",
       "  'F1 Score': 0.5692995529061102},\n",
       " {'Accuracy': 0.7835344215755855,\n",
       "  'Precision': 0.610223642172524,\n",
       "  'Recall': 0.5106951871657754,\n",
       "  'F1 Score': 0.5560407569141194})"
      ]
     },
     "execution_count": 5,
     "metadata": {},
     "output_type": "execute_result"
    }
   ],
   "source": [
    "\n",
    "def train_evaluate_model(model, X_train, y_train, X_test, y_test):\n",
    "    model.fit(X_train, y_train)\n",
    "    y_pred = model.predict(X_test)\n",
    "    return {\n",
    "        \"Accuracy\": accuracy_score(y_test, y_pred),\n",
    "        \"Precision\": precision_score(y_test, y_pred),\n",
    "        \"Recall\": recall_score(y_test, y_pred),\n",
    "        \"F1 Score\": f1_score(y_test, y_pred),\n",
    "    }, y_pred\n",
    "\n",
    "# LR\n",
    "log_model = LogisticRegression(max_iter=1000, random_state=42)\n",
    "log_results, y_pred_log = train_evaluate_model(log_model, X_train_scaled, y_train, X_test_scaled, y_test)\n",
    "\n",
    "# RF\n",
    "rf_model = RandomForestClassifier(n_estimators=100, random_state=42)\n",
    "rf_results, y_pred_rf = train_evaluate_model(rf_model, X_train, y_train, X_test, y_test)\n",
    "\n",
    "# XGBOOST\n",
    "xgb_model = XGBClassifier(eval_metric=\"logloss\", random_state=42)\n",
    "xgb_results, y_pred_xgb = train_evaluate_model(xgb_model, X_train, y_train, X_test, y_test)\n",
    "\n",
    "log_results, rf_results, xgb_results\n"
   ]
  },
  {
   "cell_type": "markdown",
   "id": "c0e7cf40-3131-4185-bb39-307e4d5b1ae5",
   "metadata": {},
   "source": [
    "###### Hyper parameter tuning"
   ]
  },
  {
   "cell_type": "code",
   "execution_count": 12,
   "id": "ac5be729-f1c1-42a1-af89-4d128cb89623",
   "metadata": {},
   "outputs": [
    {
     "name": "stdout",
     "output_type": "stream",
     "text": [
      "Fitting 3 folds for each of 16 candidates, totalling 48 fits\n"
     ]
    },
    {
     "data": {
      "text/plain": [
       "({'learning_rate': 0.1, 'max_depth': 3, 'n_estimators': 100, 'subsample': 0.8},\n",
       " 0.8047568335108272)"
      ]
     },
     "execution_count": 12,
     "metadata": {},
     "output_type": "execute_result"
    }
   ],
   "source": [
    "\n",
    "\n",
    "xgb_param_grid = {\n",
    "    \"n_estimators\": [50, 100],\n",
    "    \"max_depth\": [3, 5],\n",
    "    \"learning_rate\": [0.01, 0.1],\n",
    "    \"subsample\": [0.8, 1.0],\n",
    "}\n",
    "\n",
    "# GridSearchCV\n",
    "xgb_grid = GridSearchCV(XGBClassifier(eval_metric=\"logloss\", random_state=42), \n",
    "                        xgb_param_grid, cv=3, scoring=\"accuracy\", n_jobs=-1, verbose=1)\n",
    "\n",
    "xgb_grid.fit(X_train, y_train)\n",
    "\n",
    "xgb_grid.best_params_, xgb_grid.best_score_\n"
   ]
  },
  {
   "cell_type": "code",
   "execution_count": 13,
   "id": "1dc0e899-377d-4e70-ad0e-a8cd1afb6c03",
   "metadata": {},
   "outputs": [
    {
     "name": "stdout",
     "output_type": "stream",
     "text": [
      "Fitting 3 folds for each of 4 candidates, totalling 12 fits\n",
      "Best Parameters: {'subsample': 0.8, 'n_estimators': 80, 'max_depth': 3, 'learning_rate': 0.1}\n",
      "Best Score: 0.806354277600284\n"
     ]
    }
   ],
   "source": [
    "\n",
    "xgb_param_dist = {\n",
    "    \"n_estimators\": [50, 80],\n",
    "    \"max_depth\": [3, 4],\n",
    "    \"learning_rate\": [0.05, 0.1],\n",
    "    \"subsample\": [0.8],\n",
    "}\n",
    "\n",
    "# RandomizedSearchCV \n",
    "xgb_random = RandomizedSearchCV(\n",
    "    XGBClassifier(eval_metric=\"logloss\", random_state=42),\n",
    "    xgb_param_dist, \n",
    "    cv=3, \n",
    "    scoring=\"accuracy\", \n",
    "    n_jobs=-1, \n",
    "    n_iter=4, \n",
    "    verbose=1\n",
    ")\n",
    "\n",
    "xgb_random.fit(X_train, y_train)\n",
    "\n",
    "print(\"Best Parameters:\", xgb_random.best_params_)\n",
    "print(\"Best Score:\", xgb_random.best_score_)\n"
   ]
  },
  {
   "cell_type": "code",
   "execution_count": null,
   "id": "d902457b-245f-4682-8c09-5907fe5fda64",
   "metadata": {},
   "outputs": [],
   "source": []
  },
  {
   "cell_type": "code",
   "execution_count": null,
   "id": "2a24e4a6-a519-48b9-b0d7-efeb9751e6e9",
   "metadata": {},
   "outputs": [],
   "source": []
  },
  {
   "cell_type": "code",
   "execution_count": null,
   "id": "29f0dbfc-32a5-44a1-81d9-ab3340923ae2",
   "metadata": {},
   "outputs": [],
   "source": []
  }
 ],
 "metadata": {
  "kernelspec": {
   "display_name": "Python 3 (ipykernel)",
   "language": "python",
   "name": "python3"
  },
  "language_info": {
   "codemirror_mode": {
    "name": "ipython",
    "version": 3
   },
   "file_extension": ".py",
   "mimetype": "text/x-python",
   "name": "python",
   "nbconvert_exporter": "python",
   "pygments_lexer": "ipython3",
   "version": "3.12.7"
  }
 },
 "nbformat": 4,
 "nbformat_minor": 5
}
